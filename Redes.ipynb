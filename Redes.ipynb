{
 "cells": [
  {
   "cell_type": "code",
   "execution_count": null,
   "metadata": {},
   "outputs": [],
   "source": [
    "def do_cifra_de_cesar(texto, chave):\n",
    "    return ''.join(chr(ord(c)+chave) for c in texto)\n",
    "\n",
    "def undo_cifra_de_cesar(texto, chave):\n",
    "    return ''.join(chr(ord(c)-chave) for c in texto)\n"
   ]
  },
  {
   "cell_type": "code",
   "execution_count": null,
   "metadata": {},
   "outputs": [],
   "source": [
    "texto = \"Hi\"\n",
    "chave = 1\n",
    "texto2 = do_cifra_de_cesar(texto, chave)\n",
    "print (texto2)"
   ]
  },
  {
   "cell_type": "code",
   "execution_count": null,
   "metadata": {},
   "outputs": [],
   "source": [
    "undo_cifra_de_cesar(texto2, chave)"
   ]
  },
  {
   "cell_type": "markdown",
   "metadata": {},
   "source": [
    "# Servidor"
   ]
  },
  {
   "cell_type": "code",
   "execution_count": null,
   "metadata": {},
   "outputs": [
    {
     "name": "stdout",
     "output_type": "stream",
     "text": [
      "to aqui\n",
      "escutando\n"
     ]
    }
   ],
   "source": [
    "#Parametros do Servidor : porta do servidor\n",
    "import socket \n",
    "HOST = ''              # Endereco IP do Servidor \n",
    "PORT = 5000            # Porta que o Servidor esta \n",
    "tcp = socket.socket(socket.AF_INET, socket.SOCK_STREAM) \n",
    "print(\"to aqui\")\n",
    "orig = (HOST, PORT) \n",
    "tcp.bind(orig) \n",
    "tcp.listen(1) \n",
    "print(\"escutando\")\n",
    "con, cliente = tcp.accept()\n",
    "print(\"aceitei\")\n",
    "tamanho_string = struct.unpack('>I', con.recv(8))\n",
    "texto = con.recv(tamanho_string)\n",
    "chave = struct.unpack('>I', con.recv(8))\n",
    "texto_decodificado = undo_cifra_de_cesar(texto, chave)\n",
    "print (texto_decodificado)   \n",
    "con.send(texto_decodificado) \n",
    "con.close()"
   ]
  },
  {
   "cell_type": "markdown",
   "metadata": {},
   "source": [
    "# Cliente "
   ]
  },
  {
   "cell_type": "code",
   "execution_count": null,
   "metadata": {},
   "outputs": [],
   "source": [
    "#Parametros do Cliente : Enedereco de Ip do servidor, porta do servidor, string texto, inteiro chave\n",
    "import socket \n",
    "import struct\n",
    "HOST = '127.0.0.1'     # Endereco IP do Servidor \n",
    "PORT = 5000            # Porta que o Servidor esta \n",
    "tcp = socket.socket(socket.AF_INET, socket.SOCK_STREAM) \n",
    "print(\"to aqui\")\n",
    "dest = (HOST, PORT) \n",
    "tcp.connect(dest)\n",
    "print(\"conectou\")\n",
    "texto = do_do_cifra_de_cesar(texto, chave)\n",
    "tamanho_string = len(texto.encode('utf-8')*2))\n",
    "tcp.send(struct.pack('>I', int(tamanho_string))\n",
    "tcp.send(texto)\n",
    "tcp.send(struct.pack('>I',int(chave)))\n",
    "resposta = tcp.recv(tamanho_string)    \n",
    "print resposta    "
   ]
  },
  {
   "cell_type": "code",
   "execution_count": null,
   "metadata": {},
   "outputs": [],
   "source": []
  }
 ],
 "metadata": {
  "kernelspec": {
   "display_name": "Python 3(redes)",
   "language": "python",
   "name": "redesp3"
  },
  "language_info": {
   "codemirror_mode": {
    "name": "ipython",
    "version": 3
   },
   "file_extension": ".py",
   "mimetype": "text/x-python",
   "name": "python",
   "nbconvert_exporter": "python",
   "pygments_lexer": "ipython3",
   "version": "3.6.4"
  }
 },
 "nbformat": 4,
 "nbformat_minor": 2
}

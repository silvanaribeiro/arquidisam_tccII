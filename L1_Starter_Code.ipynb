{
 "cells": [
  {
   "cell_type": "markdown",
   "metadata": {},
   "source": [
    "Before we get started, a couple of reminders to keep in mind when using iPython notebooks:\n",
    "\n",
    "- Remember that you can see from the left side of a code cell when it was last run if there is a number within the brackets.\n",
    "- When you start a new notebook session, make sure you run all of the cells up to the point where you last left off. Even if the output is still visible from when you ran the cells in your previous session, the kernel starts in a fresh state so you'll need to reload the data, etc. on a new session.\n",
    "- The previous point is useful to keep in mind if your answers do not match what is expected in the lesson's quizzes. Try reloading the data and run all of the processing steps one by one in order to make sure that you are working with the same variables and data that are at each quiz stage.\n",
    "\n",
    "\n",
    "## Load Data from CSVs"
   ]
  },
  {
   "cell_type": "code",
   "execution_count": 2,
   "metadata": {
    "collapsed": false
   },
   "outputs": [],
   "source": [
    "import unicodecsv\n",
    "\n",
    "## Longer version of code (replaced with shorter, equivalent version below)\n",
    "\n",
    "# enrollments = []\n",
    "# f = open('enrollments.csv', 'rb')\n",
    "# reader = unicodecsv.DictReader(f)\n",
    "# for row in reader:\n",
    "#     enrollments.append(row)\n",
    "# f.close()\n",
    "\n",
    "with open('Udacity - Data Analysis\\enrollments.csv', 'rb') as f:\n",
    "    reader = unicodecsv.DictReader(f)\n",
    "    enrollments = list(reader)"
   ]
  },
  {
   "cell_type": "code",
   "execution_count": 3,
   "metadata": {
    "collapsed": false
   },
   "outputs": [
    {
     "data": {
      "text/plain": [
       "{u'account_key': u'448',\n",
       " u'cancel_date': u'2015-01-14',\n",
       " u'days_to_cancel': u'65',\n",
       " u'is_canceled': u'True',\n",
       " u'is_udacity': u'True',\n",
       " u'join_date': u'2014-11-10',\n",
       " u'status': u'canceled'}"
      ]
     },
     "execution_count": 3,
     "metadata": {},
     "output_type": "execute_result"
    }
   ],
   "source": [
    "enrollments[0]"
   ]
  },
  {
   "cell_type": "code",
   "execution_count": 4,
   "metadata": {
    "collapsed": false
   },
   "outputs": [],
   "source": [
    "#####################################\n",
    "#                 1                 #\n",
    "#####################################\n",
    "\n",
    "## Read in the data from daily_engagement.csv and project_submissions.csv \n",
    "## and store the results in the below variables.\n",
    "## Then look at the first row of each table.\n",
    "with open('Udacity - Data Analysis\\daily_engagement.csv') as f:\n",
    "    reader = unicodecsv.DictReader(f)\n",
    "    daily_engagement = list(reader)\n",
    "\n",
    "with open('Udacity - Data Analysis\\project_submissions.csv') as f:\n",
    "    reader = unicodecsv.DictReader(f)\n",
    "    project_submissions = list(reader)"
   ]
  },
  {
   "cell_type": "code",
   "execution_count": 5,
   "metadata": {
    "collapsed": false
   },
   "outputs": [
    {
     "data": {
      "text/plain": [
       "{u'acct': u'0',\n",
       " u'lessons_completed': u'0.0',\n",
       " u'num_courses_visited': u'1.0',\n",
       " u'projects_completed': u'0.0',\n",
       " u'total_minutes_visited': u'11.6793745',\n",
       " u'utc_date': u'2015-01-09'}"
      ]
     },
     "execution_count": 5,
     "metadata": {},
     "output_type": "execute_result"
    }
   ],
   "source": [
    "daily_engagement[0]"
   ]
  },
  {
   "cell_type": "code",
   "execution_count": 6,
   "metadata": {
    "collapsed": false
   },
   "outputs": [
    {
     "data": {
      "text/plain": [
       "{u'account_key': u'256',\n",
       " u'assigned_rating': u'UNGRADED',\n",
       " u'completion_date': u'2015-01-16',\n",
       " u'creation_date': u'2015-01-14',\n",
       " u'lesson_key': u'3176718735',\n",
       " u'processing_state': u'EVALUATED'}"
      ]
     },
     "execution_count": 6,
     "metadata": {},
     "output_type": "execute_result"
    }
   ],
   "source": [
    "project_submissions[0]"
   ]
  },
  {
   "cell_type": "markdown",
   "metadata": {},
   "source": [
    "## Fixing Data Types"
   ]
  },
  {
   "cell_type": "code",
   "execution_count": 7,
   "metadata": {
    "collapsed": false
   },
   "outputs": [
    {
     "data": {
      "text/plain": [
       "{u'account_key': u'448',\n",
       " u'cancel_date': datetime.datetime(2015, 1, 14, 0, 0),\n",
       " u'days_to_cancel': 65,\n",
       " u'is_canceled': True,\n",
       " u'is_udacity': True,\n",
       " u'join_date': datetime.datetime(2014, 11, 10, 0, 0),\n",
       " u'status': u'canceled'}"
      ]
     },
     "execution_count": 7,
     "metadata": {},
     "output_type": "execute_result"
    }
   ],
   "source": [
    "from datetime import datetime as dt\n",
    "\n",
    "# Takes a date as a string, and returns a Python datetime object. \n",
    "# If there is no date given, returns None\n",
    "def parse_date(date):\n",
    "    if date == '':\n",
    "        return None\n",
    "    else:\n",
    "        return dt.strptime(date, '%Y-%m-%d')\n",
    "    \n",
    "# Takes a string which is either an empty string or represents an integer,\n",
    "# and returns an int or None.\n",
    "def parse_maybe_int(i):\n",
    "    if i == '':\n",
    "        return None\n",
    "    else:\n",
    "        return int(i)\n",
    "\n",
    "# Clean up the data types in the enrollments table\n",
    "for enrollment in enrollments:\n",
    "    enrollment['cancel_date'] = parse_date(enrollment['cancel_date'])\n",
    "    enrollment['days_to_cancel'] = parse_maybe_int(enrollment['days_to_cancel'])\n",
    "    enrollment['is_canceled'] = enrollment['is_canceled'] == 'True'\n",
    "    enrollment['is_udacity'] = enrollment['is_udacity'] == 'True'\n",
    "    enrollment['join_date'] = parse_date(enrollment['join_date'])\n",
    "    \n",
    "enrollments[0]"
   ]
  },
  {
   "cell_type": "code",
   "execution_count": 8,
   "metadata": {
    "collapsed": false
   },
   "outputs": [
    {
     "data": {
      "text/plain": [
       "{u'acct': u'0',\n",
       " u'lessons_completed': 0,\n",
       " u'num_courses_visited': 1,\n",
       " u'projects_completed': 0,\n",
       " u'total_minutes_visited': 11.6793745,\n",
       " u'utc_date': datetime.datetime(2015, 1, 9, 0, 0)}"
      ]
     },
     "execution_count": 8,
     "metadata": {},
     "output_type": "execute_result"
    }
   ],
   "source": [
    "# Clean up the data types in the engagement table\n",
    "for engagement_record in daily_engagement:\n",
    "    engagement_record['lessons_completed'] = int(float(engagement_record['lessons_completed']))\n",
    "    engagement_record['num_courses_visited'] = int(float(engagement_record['num_courses_visited']))\n",
    "    engagement_record['projects_completed'] = int(float(engagement_record['projects_completed']))\n",
    "    engagement_record['total_minutes_visited'] = float(engagement_record['total_minutes_visited'])\n",
    "    engagement_record['utc_date'] = parse_date(engagement_record['utc_date'])\n",
    "    \n",
    "daily_engagement[0]"
   ]
  },
  {
   "cell_type": "code",
   "execution_count": 9,
   "metadata": {
    "collapsed": false
   },
   "outputs": [
    {
     "data": {
      "text/plain": [
       "{u'account_key': u'256',\n",
       " u'assigned_rating': u'UNGRADED',\n",
       " u'completion_date': datetime.datetime(2015, 1, 16, 0, 0),\n",
       " u'creation_date': datetime.datetime(2015, 1, 14, 0, 0),\n",
       " u'lesson_key': u'3176718735',\n",
       " u'processing_state': u'EVALUATED'}"
      ]
     },
     "execution_count": 9,
     "metadata": {},
     "output_type": "execute_result"
    }
   ],
   "source": [
    "# Clean up the data types in the submissions table\n",
    "for submission in project_submissions:\n",
    "    submission['completion_date'] = parse_date(submission['completion_date'])\n",
    "    submission['creation_date'] = parse_date(submission['creation_date'])\n",
    "\n",
    "project_submissions[0]"
   ]
  },
  {
   "cell_type": "markdown",
   "metadata": {},
   "source": [
    "Note when running the above cells that we are actively changing the contents of our data variables. If you try to run these cells multiple times in the same session, an error will occur.\n",
    "\n",
    "## Investigating the Data"
   ]
  },
  {
   "cell_type": "code",
   "execution_count": 10,
   "metadata": {
    "collapsed": false
   },
   "outputs": [],
   "source": [
    "#####################################\n",
    "#                 2                 #\n",
    "#####################################\n",
    "\n",
    "## Find the total number of rows and the number of unique students (account keys)\n",
    "## in each table.\n",
    "total_enrollments = len(enrollments)\n",
    "total_engagement = len(daily_engagement)\n",
    "total_submissions = len(project_submissions)\n",
    "unique_enrollments = set()\n",
    "for enrollment in enrollments:\n",
    "    unique_enrollments.add(enrollment['account_key'])\n",
    "unique_engagements = set()\n",
    "for engagement in daily_engagement:\n",
    "    unique_engagements.add(engagement['acct'])\n",
    "unique_submissions = set()\n",
    "for submission in project_submissions:\n",
    "    unique_submissions.add(submission['account_key'])\n",
    "    "
   ]
  },
  {
   "cell_type": "code",
   "execution_count": 11,
   "metadata": {
    "collapsed": false
   },
   "outputs": [
    {
     "name": "stdout",
     "output_type": "stream",
     "text": [
      "Total enrollments 1640\n",
      "Total daily engagements 136240\n",
      "Total project submissions 3642\n",
      "Unique enrollments 1302\n",
      "Unique daily engagements 1237\n",
      "Unique project submissions 743\n"
     ]
    }
   ],
   "source": [
    "print \"Total enrollments %s\" % total_enrollments\n",
    "print \"Total daily engagements %s\" % total_engagement\n",
    "print \"Total project submissions %s\" % total_submissions\n",
    "print \"Unique enrollments %s\" % len(unique_enrollments)\n",
    "print \"Unique daily engagements %s\" % len(unique_engagements)\n",
    "print \"Unique project submissions %s\" % len(unique_submissions)"
   ]
  },
  {
   "cell_type": "markdown",
   "metadata": {},
   "source": [
    "## Problems in the Data"
   ]
  },
  {
   "cell_type": "code",
   "execution_count": 12,
   "metadata": {
    "collapsed": true
   },
   "outputs": [],
   "source": [
    "#####################################\n",
    "#                 3                 #\n",
    "#####################################\n",
    "\n",
    "## Rename the \"acct\" column in the daily_engagement table to \"account_key\".\n",
    "for engagement in daily_engagement:\n",
    "    engagement[u'account_key'] = engagement.pop('acct')"
   ]
  },
  {
   "cell_type": "code",
   "execution_count": 13,
   "metadata": {
    "collapsed": false
   },
   "outputs": [
    {
     "data": {
      "text/plain": [
       "{u'account_key': u'0',\n",
       " u'lessons_completed': 0,\n",
       " u'num_courses_visited': 1,\n",
       " u'projects_completed': 0,\n",
       " u'total_minutes_visited': 11.6793745,\n",
       " u'utc_date': datetime.datetime(2015, 1, 9, 0, 0)}"
      ]
     },
     "execution_count": 13,
     "metadata": {},
     "output_type": "execute_result"
    }
   ],
   "source": [
    "daily_engagement[0]"
   ]
  },
  {
   "cell_type": "markdown",
   "metadata": {},
   "source": [
    "## Missing Engagement Records"
   ]
  },
  {
   "cell_type": "code",
   "execution_count": 14,
   "metadata": {
    "collapsed": false
   },
   "outputs": [
    {
     "data": {
      "text/plain": [
       "[[{u'account_key': u'1145',\n",
       "   u'cancel_date': datetime.datetime(2015, 4, 4, 0, 0),\n",
       "   u'days_to_cancel': 0,\n",
       "   u'is_canceled': True,\n",
       "   u'is_udacity': False,\n",
       "   u'join_date': datetime.datetime(2015, 4, 4, 0, 0),\n",
       "   u'status': u'canceled'}],\n",
       " [{u'account_key': u'817',\n",
       "   u'cancel_date': datetime.datetime(2014, 12, 9, 0, 0),\n",
       "   u'days_to_cancel': 0,\n",
       "   u'is_canceled': True,\n",
       "   u'is_udacity': False,\n",
       "   u'join_date': datetime.datetime(2014, 12, 9, 0, 0),\n",
       "   u'status': u'canceled'}],\n",
       " [{u'account_key': u'737',\n",
       "   u'cancel_date': datetime.datetime(2014, 11, 10, 0, 0),\n",
       "   u'days_to_cancel': 0,\n",
       "   u'is_canceled': True,\n",
       "   u'is_udacity': False,\n",
       "   u'join_date': datetime.datetime(2014, 11, 10, 0, 0),\n",
       "   u'status': u'canceled'}],\n",
       " [{u'account_key': u'717',\n",
       "   u'cancel_date': datetime.datetime(2014, 12, 4, 0, 0),\n",
       "   u'days_to_cancel': 0,\n",
       "   u'is_canceled': True,\n",
       "   u'is_udacity': False,\n",
       "   u'join_date': datetime.datetime(2014, 12, 4, 0, 0),\n",
       "   u'status': u'canceled'}],\n",
       " [{u'account_key': u'711',\n",
       "   u'cancel_date': datetime.datetime(2015, 5, 8, 0, 0),\n",
       "   u'days_to_cancel': 0,\n",
       "   u'is_canceled': True,\n",
       "   u'is_udacity': False,\n",
       "   u'join_date': datetime.datetime(2015, 5, 8, 0, 0),\n",
       "   u'status': u'canceled'}],\n",
       " [{u'account_key': u'914',\n",
       "   u'cancel_date': datetime.datetime(2015, 4, 2, 0, 0),\n",
       "   u'days_to_cancel': 0,\n",
       "   u'is_canceled': True,\n",
       "   u'is_udacity': False,\n",
       "   u'join_date': datetime.datetime(2015, 4, 2, 0, 0),\n",
       "   u'status': u'canceled'},\n",
       "  {u'account_key': u'914',\n",
       "   u'cancel_date': datetime.datetime(2015, 7, 17, 0, 0),\n",
       "   u'days_to_cancel': 0,\n",
       "   u'is_canceled': True,\n",
       "   u'is_udacity': False,\n",
       "   u'join_date': datetime.datetime(2015, 7, 17, 0, 0),\n",
       "   u'status': u'canceled'}],\n",
       " [{u'account_key': u'1069',\n",
       "   u'cancel_date': datetime.datetime(2015, 6, 1, 0, 0),\n",
       "   u'days_to_cancel': 0,\n",
       "   u'is_canceled': True,\n",
       "   u'is_udacity': True,\n",
       "   u'join_date': datetime.datetime(2015, 6, 1, 0, 0),\n",
       "   u'status': u'canceled'}],\n",
       " [{u'account_key': u'1010',\n",
       "   u'cancel_date': datetime.datetime(2015, 1, 11, 0, 0),\n",
       "   u'days_to_cancel': 0,\n",
       "   u'is_canceled': True,\n",
       "   u'is_udacity': False,\n",
       "   u'join_date': datetime.datetime(2015, 1, 11, 0, 0),\n",
       "   u'status': u'canceled'}],\n",
       " [{u'account_key': u'1025',\n",
       "   u'cancel_date': datetime.datetime(2015, 6, 7, 0, 0),\n",
       "   u'days_to_cancel': 0,\n",
       "   u'is_canceled': True,\n",
       "   u'is_udacity': False,\n",
       "   u'join_date': datetime.datetime(2015, 6, 7, 0, 0),\n",
       "   u'status': u'canceled'}],\n",
       " [{u'account_key': u'1238',\n",
       "   u'cancel_date': datetime.datetime(2014, 11, 10, 0, 0),\n",
       "   u'days_to_cancel': 0,\n",
       "   u'is_canceled': True,\n",
       "   u'is_udacity': False,\n",
       "   u'join_date': datetime.datetime(2014, 11, 10, 0, 0),\n",
       "   u'status': u'canceled'}],\n",
       " [{u'account_key': u'902',\n",
       "   u'cancel_date': datetime.datetime(2015, 5, 29, 0, 0),\n",
       "   u'days_to_cancel': 0,\n",
       "   u'is_canceled': True,\n",
       "   u'is_udacity': False,\n",
       "   u'join_date': datetime.datetime(2015, 5, 29, 0, 0),\n",
       "   u'status': u'canceled'}],\n",
       " [{u'account_key': u'1213',\n",
       "   u'cancel_date': datetime.datetime(2015, 1, 12, 0, 0),\n",
       "   u'days_to_cancel': 0,\n",
       "   u'is_canceled': True,\n",
       "   u'is_udacity': False,\n",
       "   u'join_date': datetime.datetime(2015, 1, 12, 0, 0),\n",
       "   u'status': u'canceled'}],\n",
       " [{u'account_key': u'749',\n",
       "   u'cancel_date': datetime.datetime(2015, 3, 5, 0, 0),\n",
       "   u'days_to_cancel': 0,\n",
       "   u'is_canceled': True,\n",
       "   u'is_udacity': False,\n",
       "   u'join_date': datetime.datetime(2015, 3, 5, 0, 0),\n",
       "   u'status': u'canceled'}],\n",
       " [{u'account_key': u'1190',\n",
       "   u'cancel_date': datetime.datetime(2015, 3, 6, 0, 0),\n",
       "   u'days_to_cancel': 0,\n",
       "   u'is_canceled': True,\n",
       "   u'is_udacity': False,\n",
       "   u'join_date': datetime.datetime(2015, 3, 6, 0, 0),\n",
       "   u'status': u'canceled'}],\n",
       " [{u'account_key': u'1171',\n",
       "   u'cancel_date': datetime.datetime(2015, 1, 7, 0, 0),\n",
       "   u'days_to_cancel': 0,\n",
       "   u'is_canceled': True,\n",
       "   u'is_udacity': False,\n",
       "   u'join_date': datetime.datetime(2015, 1, 7, 0, 0),\n",
       "   u'status': u'canceled'}],\n",
       " [{u'account_key': u'1273',\n",
       "   u'cancel_date': datetime.datetime(2015, 1, 12, 0, 0),\n",
       "   u'days_to_cancel': 0,\n",
       "   u'is_canceled': True,\n",
       "   u'is_udacity': False,\n",
       "   u'join_date': datetime.datetime(2015, 1, 12, 0, 0),\n",
       "   u'status': u'canceled'}],\n",
       " [{u'account_key': u'1284',\n",
       "   u'cancel_date': datetime.datetime(2015, 1, 13, 0, 0),\n",
       "   u'days_to_cancel': 0,\n",
       "   u'is_canceled': True,\n",
       "   u'is_udacity': False,\n",
       "   u'join_date': datetime.datetime(2015, 1, 13, 0, 0),\n",
       "   u'status': u'canceled'}],\n",
       " [{u'account_key': u'1191',\n",
       "   u'cancel_date': datetime.datetime(2015, 1, 11, 0, 0),\n",
       "   u'days_to_cancel': 0,\n",
       "   u'is_canceled': True,\n",
       "   u'is_udacity': False,\n",
       "   u'join_date': datetime.datetime(2015, 1, 11, 0, 0),\n",
       "   u'status': u'canceled'}],\n",
       " [{u'account_key': u'1304',\n",
       "   u'cancel_date': datetime.datetime(2015, 3, 10, 0, 0),\n",
       "   u'days_to_cancel': 59,\n",
       "   u'is_canceled': True,\n",
       "   u'is_udacity': True,\n",
       "   u'join_date': datetime.datetime(2015, 1, 10, 0, 0),\n",
       "   u'status': u'canceled'},\n",
       "  {u'account_key': u'1304',\n",
       "   u'cancel_date': datetime.datetime(2015, 6, 17, 0, 0),\n",
       "   u'days_to_cancel': 99,\n",
       "   u'is_canceled': True,\n",
       "   u'is_udacity': True,\n",
       "   u'join_date': datetime.datetime(2015, 3, 10, 0, 0),\n",
       "   u'status': u'canceled'}],\n",
       " [{u'account_key': u'707',\n",
       "   u'cancel_date': datetime.datetime(2014, 12, 3, 0, 0),\n",
       "   u'days_to_cancel': 0,\n",
       "   u'is_canceled': True,\n",
       "   u'is_udacity': False,\n",
       "   u'join_date': datetime.datetime(2014, 12, 3, 0, 0),\n",
       "   u'status': u'canceled'}],\n",
       " [{u'account_key': u'799',\n",
       "   u'cancel_date': datetime.datetime(2015, 2, 6, 0, 0),\n",
       "   u'days_to_cancel': 0,\n",
       "   u'is_canceled': True,\n",
       "   u'is_udacity': False,\n",
       "   u'join_date': datetime.datetime(2015, 2, 6, 0, 0),\n",
       "   u'status': u'canceled'}],\n",
       " [{u'account_key': u'1270',\n",
       "   u'cancel_date': datetime.datetime(2015, 7, 20, 0, 0),\n",
       "   u'days_to_cancel': 0,\n",
       "   u'is_canceled': True,\n",
       "   u'is_udacity': False,\n",
       "   u'join_date': datetime.datetime(2015, 7, 20, 0, 0),\n",
       "   u'status': u'canceled'}],\n",
       " [{u'account_key': u'1120',\n",
       "   u'cancel_date': datetime.datetime(2014, 12, 4, 0, 0),\n",
       "   u'days_to_cancel': 0,\n",
       "   u'is_canceled': True,\n",
       "   u'is_udacity': False,\n",
       "   u'join_date': datetime.datetime(2014, 12, 4, 0, 0),\n",
       "   u'status': u'canceled'}],\n",
       " [{u'account_key': u'654',\n",
       "   u'cancel_date': datetime.datetime(2014, 12, 4, 0, 0),\n",
       "   u'days_to_cancel': 0,\n",
       "   u'is_canceled': True,\n",
       "   u'is_udacity': False,\n",
       "   u'join_date': datetime.datetime(2014, 12, 4, 0, 0),\n",
       "   u'status': u'canceled'},\n",
       "  {u'account_key': u'654',\n",
       "   u'cancel_date': datetime.datetime(2014, 12, 4, 0, 0),\n",
       "   u'days_to_cancel': 0,\n",
       "   u'is_canceled': True,\n",
       "   u'is_udacity': False,\n",
       "   u'join_date': datetime.datetime(2014, 12, 4, 0, 0),\n",
       "   u'status': u'canceled'},\n",
       "  {u'account_key': u'654',\n",
       "   u'cancel_date': datetime.datetime(2014, 12, 3, 0, 0),\n",
       "   u'days_to_cancel': 0,\n",
       "   u'is_canceled': True,\n",
       "   u'is_udacity': False,\n",
       "   u'join_date': datetime.datetime(2014, 12, 3, 0, 0),\n",
       "   u'status': u'canceled'}],\n",
       " [{u'account_key': u'1125',\n",
       "   u'cancel_date': datetime.datetime(2015, 5, 31, 0, 0),\n",
       "   u'days_to_cancel': 0,\n",
       "   u'is_canceled': True,\n",
       "   u'is_udacity': False,\n",
       "   u'join_date': datetime.datetime(2015, 5, 31, 0, 0),\n",
       "   u'status': u'canceled'}],\n",
       " [{u'account_key': u'1148',\n",
       "   u'cancel_date': datetime.datetime(2015, 3, 9, 0, 0),\n",
       "   u'days_to_cancel': 0,\n",
       "   u'is_canceled': True,\n",
       "   u'is_udacity': False,\n",
       "   u'join_date': datetime.datetime(2015, 3, 9, 0, 0),\n",
       "   u'status': u'canceled'}],\n",
       " [{u'account_key': u'884',\n",
       "   u'cancel_date': datetime.datetime(2015, 1, 8, 0, 0),\n",
       "   u'days_to_cancel': 0,\n",
       "   u'is_canceled': True,\n",
       "   u'is_udacity': False,\n",
       "   u'join_date': datetime.datetime(2015, 1, 8, 0, 0),\n",
       "   u'status': u'canceled'}],\n",
       " [{u'account_key': u'889',\n",
       "   u'cancel_date': datetime.datetime(2015, 8, 11, 0, 0),\n",
       "   u'days_to_cancel': 0,\n",
       "   u'is_canceled': True,\n",
       "   u'is_udacity': False,\n",
       "   u'join_date': datetime.datetime(2015, 8, 11, 0, 0),\n",
       "   u'status': u'canceled'}],\n",
       " [{u'account_key': u'1044',\n",
       "   u'cancel_date': datetime.datetime(2015, 2, 8, 0, 0),\n",
       "   u'days_to_cancel': 0,\n",
       "   u'is_canceled': True,\n",
       "   u'is_udacity': False,\n",
       "   u'join_date': datetime.datetime(2015, 2, 8, 0, 0),\n",
       "   u'status': u'canceled'}],\n",
       " [{u'account_key': u'1222',\n",
       "   u'cancel_date': datetime.datetime(2015, 4, 7, 0, 0),\n",
       "   u'days_to_cancel': 0,\n",
       "   u'is_canceled': True,\n",
       "   u'is_udacity': False,\n",
       "   u'join_date': datetime.datetime(2015, 4, 7, 0, 0),\n",
       "   u'status': u'canceled'}],\n",
       " [{u'account_key': u'997',\n",
       "   u'cancel_date': datetime.datetime(2015, 1, 12, 0, 0),\n",
       "   u'days_to_cancel': 0,\n",
       "   u'is_canceled': True,\n",
       "   u'is_udacity': False,\n",
       "   u'join_date': datetime.datetime(2015, 1, 12, 0, 0),\n",
       "   u'status': u'canceled'}],\n",
       " [{u'account_key': u'996',\n",
       "   u'cancel_date': datetime.datetime(2015, 5, 29, 0, 0),\n",
       "   u'days_to_cancel': 0,\n",
       "   u'is_canceled': True,\n",
       "   u'is_udacity': False,\n",
       "   u'join_date': datetime.datetime(2015, 5, 29, 0, 0),\n",
       "   u'status': u'canceled'}],\n",
       " [{u'account_key': u'926',\n",
       "   u'cancel_date': datetime.datetime(2015, 4, 6, 0, 0),\n",
       "   u'days_to_cancel': 0,\n",
       "   u'is_canceled': True,\n",
       "   u'is_udacity': False,\n",
       "   u'join_date': datetime.datetime(2015, 4, 6, 0, 0),\n",
       "   u'status': u'canceled'}],\n",
       " [{u'account_key': u'1237',\n",
       "   u'cancel_date': datetime.datetime(2015, 5, 28, 0, 0),\n",
       "   u'days_to_cancel': 0,\n",
       "   u'is_canceled': True,\n",
       "   u'is_udacity': False,\n",
       "   u'join_date': datetime.datetime(2015, 5, 28, 0, 0),\n",
       "   u'status': u'canceled'}],\n",
       " [{u'account_key': u'725',\n",
       "   u'cancel_date': datetime.datetime(2014, 12, 6, 0, 0),\n",
       "   u'days_to_cancel': 0,\n",
       "   u'is_canceled': True,\n",
       "   u'is_udacity': False,\n",
       "   u'join_date': datetime.datetime(2014, 12, 6, 0, 0),\n",
       "   u'status': u'canceled'}],\n",
       " [{u'account_key': u'789',\n",
       "   u'cancel_date': datetime.datetime(2015, 2, 6, 0, 0),\n",
       "   u'days_to_cancel': 0,\n",
       "   u'is_canceled': True,\n",
       "   u'is_udacity': False,\n",
       "   u'join_date': datetime.datetime(2015, 2, 6, 0, 0),\n",
       "   u'status': u'canceled'}],\n",
       " [{u'account_key': u'733',\n",
       "   u'cancel_date': datetime.datetime(2015, 1, 12, 0, 0),\n",
       "   u'days_to_cancel': 0,\n",
       "   u'is_canceled': True,\n",
       "   u'is_udacity': False,\n",
       "   u'join_date': datetime.datetime(2015, 1, 12, 0, 0),\n",
       "   u'status': u'canceled'}],\n",
       " [{u'account_key': u'1218',\n",
       "   u'cancel_date': datetime.datetime(2014, 11, 15, 0, 0),\n",
       "   u'days_to_cancel': 0,\n",
       "   u'is_canceled': True,\n",
       "   u'is_udacity': False,\n",
       "   u'join_date': datetime.datetime(2014, 11, 15, 0, 0),\n",
       "   u'status': u'canceled'}],\n",
       " [{u'account_key': u'1219',\n",
       "   u'cancel_date': datetime.datetime(2014, 11, 12, 0, 0),\n",
       "   u'days_to_cancel': 0,\n",
       "   u'is_canceled': True,\n",
       "   u'is_udacity': False,\n",
       "   u'join_date': datetime.datetime(2014, 11, 12, 0, 0),\n",
       "   u'status': u'canceled'}],\n",
       " [{u'account_key': u'964',\n",
       "   u'cancel_date': datetime.datetime(2014, 12, 4, 0, 0),\n",
       "   u'days_to_cancel': 0,\n",
       "   u'is_canceled': True,\n",
       "   u'is_udacity': False,\n",
       "   u'join_date': datetime.datetime(2014, 12, 4, 0, 0),\n",
       "   u'status': u'canceled'}],\n",
       " [{u'account_key': u'1129',\n",
       "   u'cancel_date': datetime.datetime(2015, 3, 7, 0, 0),\n",
       "   u'days_to_cancel': 0,\n",
       "   u'is_canceled': True,\n",
       "   u'is_udacity': False,\n",
       "   u'join_date': datetime.datetime(2015, 3, 7, 0, 0),\n",
       "   u'status': u'canceled'},\n",
       "  {u'account_key': u'1129',\n",
       "   u'cancel_date': datetime.datetime(2015, 2, 11, 0, 0),\n",
       "   u'days_to_cancel': 0,\n",
       "   u'is_canceled': True,\n",
       "   u'is_udacity': False,\n",
       "   u'join_date': datetime.datetime(2015, 2, 11, 0, 0),\n",
       "   u'status': u'canceled'}],\n",
       " [{u'account_key': u'968',\n",
       "   u'cancel_date': datetime.datetime(2015, 7, 17, 0, 0),\n",
       "   u'days_to_cancel': 0,\n",
       "   u'is_canceled': True,\n",
       "   u'is_udacity': False,\n",
       "   u'join_date': datetime.datetime(2015, 7, 17, 0, 0),\n",
       "   u'status': u'canceled'}],\n",
       " [{u'account_key': u'1101',\n",
       "   u'cancel_date': None,\n",
       "   u'days_to_cancel': None,\n",
       "   u'is_canceled': False,\n",
       "   u'is_udacity': True,\n",
       "   u'join_date': datetime.datetime(2015, 2, 25, 0, 0),\n",
       "   u'status': u'current'}],\n",
       " [{u'account_key': u'878',\n",
       "   u'cancel_date': datetime.datetime(2014, 11, 10, 0, 0),\n",
       "   u'days_to_cancel': 0,\n",
       "   u'is_canceled': True,\n",
       "   u'is_udacity': False,\n",
       "   u'join_date': datetime.datetime(2014, 11, 10, 0, 0),\n",
       "   u'status': u'canceled'}],\n",
       " [{u'account_key': u'875',\n",
       "   u'cancel_date': datetime.datetime(2014, 11, 17, 0, 0),\n",
       "   u'days_to_cancel': 0,\n",
       "   u'is_canceled': True,\n",
       "   u'is_udacity': False,\n",
       "   u'join_date': datetime.datetime(2014, 11, 17, 0, 0),\n",
       "   u'status': u'canceled'}],\n",
       " [{u'account_key': u'870',\n",
       "   u'cancel_date': datetime.datetime(2015, 5, 12, 0, 0),\n",
       "   u'days_to_cancel': 0,\n",
       "   u'is_canceled': True,\n",
       "   u'is_udacity': False,\n",
       "   u'join_date': datetime.datetime(2015, 5, 12, 0, 0),\n",
       "   u'status': u'canceled'}],\n",
       " [{u'account_key': u'871',\n",
       "   u'cancel_date': datetime.datetime(2014, 11, 13, 0, 0),\n",
       "   u'days_to_cancel': 0,\n",
       "   u'is_canceled': True,\n",
       "   u'is_udacity': False,\n",
       "   u'join_date': datetime.datetime(2014, 11, 13, 0, 0),\n",
       "   u'status': u'canceled'}],\n",
       " [{u'account_key': u'1155',\n",
       "   u'cancel_date': datetime.datetime(2015, 7, 17, 0, 0),\n",
       "   u'days_to_cancel': 0,\n",
       "   u'is_canceled': True,\n",
       "   u'is_udacity': False,\n",
       "   u'join_date': datetime.datetime(2015, 7, 17, 0, 0),\n",
       "   u'status': u'canceled'}],\n",
       " [{u'account_key': u'819',\n",
       "   u'cancel_date': datetime.datetime(2015, 3, 4, 0, 0),\n",
       "   u'days_to_cancel': 0,\n",
       "   u'is_canceled': True,\n",
       "   u'is_udacity': False,\n",
       "   u'join_date': datetime.datetime(2015, 3, 4, 0, 0),\n",
       "   u'status': u'canceled'},\n",
       "  {u'account_key': u'819',\n",
       "   u'cancel_date': datetime.datetime(2015, 3, 4, 0, 0),\n",
       "   u'days_to_cancel': 0,\n",
       "   u'is_canceled': True,\n",
       "   u'is_udacity': False,\n",
       "   u'join_date': datetime.datetime(2015, 3, 4, 0, 0),\n",
       "   u'status': u'canceled'}],\n",
       " [{u'account_key': u'1086',\n",
       "   u'cancel_date': datetime.datetime(2015, 6, 9, 0, 0),\n",
       "   u'days_to_cancel': 0,\n",
       "   u'is_canceled': True,\n",
       "   u'is_udacity': False,\n",
       "   u'join_date': datetime.datetime(2015, 6, 9, 0, 0),\n",
       "   u'status': u'canceled'}],\n",
       " [{u'account_key': u'803',\n",
       "   u'cancel_date': datetime.datetime(2015, 1, 8, 0, 0),\n",
       "   u'days_to_cancel': 0,\n",
       "   u'is_canceled': True,\n",
       "   u'is_udacity': False,\n",
       "   u'join_date': datetime.datetime(2015, 1, 8, 0, 0),\n",
       "   u'status': u'canceled'}],\n",
       " [{u'account_key': u'802',\n",
       "   u'cancel_date': datetime.datetime(2015, 1, 8, 0, 0),\n",
       "   u'days_to_cancel': 0,\n",
       "   u'is_canceled': True,\n",
       "   u'is_udacity': False,\n",
       "   u'join_date': datetime.datetime(2015, 1, 8, 0, 0),\n",
       "   u'status': u'canceled'}],\n",
       " [{u'account_key': u'766',\n",
       "   u'cancel_date': datetime.datetime(2015, 5, 10, 0, 0),\n",
       "   u'days_to_cancel': 0,\n",
       "   u'is_canceled': True,\n",
       "   u'is_udacity': False,\n",
       "   u'join_date': datetime.datetime(2015, 5, 10, 0, 0),\n",
       "   u'status': u'canceled'}],\n",
       " [{u'account_key': u'1079',\n",
       "   u'cancel_date': datetime.datetime(2015, 2, 9, 0, 0),\n",
       "   u'days_to_cancel': 0,\n",
       "   u'is_canceled': True,\n",
       "   u'is_udacity': False,\n",
       "   u'join_date': datetime.datetime(2015, 2, 9, 0, 0),\n",
       "   u'status': u'canceled'}],\n",
       " [{u'account_key': u'1241',\n",
       "   u'cancel_date': datetime.datetime(2015, 6, 9, 0, 0),\n",
       "   u'days_to_cancel': 0,\n",
       "   u'is_canceled': True,\n",
       "   u'is_udacity': False,\n",
       "   u'join_date': datetime.datetime(2015, 6, 9, 0, 0),\n",
       "   u'status': u'canceled'}],\n",
       " [{u'account_key': u'1291',\n",
       "   u'cancel_date': datetime.datetime(2015, 6, 3, 0, 0),\n",
       "   u'days_to_cancel': 0,\n",
       "   u'is_canceled': True,\n",
       "   u'is_udacity': False,\n",
       "   u'join_date': datetime.datetime(2015, 6, 3, 0, 0),\n",
       "   u'status': u'canceled'}],\n",
       " [{u'account_key': u'981',\n",
       "   u'cancel_date': datetime.datetime(2015, 2, 7, 0, 0),\n",
       "   u'days_to_cancel': 0,\n",
       "   u'is_canceled': True,\n",
       "   u'is_udacity': False,\n",
       "   u'join_date': datetime.datetime(2015, 2, 7, 0, 0),\n",
       "   u'status': u'canceled'}],\n",
       " [{u'account_key': u'841',\n",
       "   u'cancel_date': datetime.datetime(2014, 11, 12, 0, 0),\n",
       "   u'days_to_cancel': 0,\n",
       "   u'is_canceled': True,\n",
       "   u'is_udacity': False,\n",
       "   u'join_date': datetime.datetime(2014, 11, 12, 0, 0),\n",
       "   u'status': u'canceled'}],\n",
       " [{u'account_key': u'664',\n",
       "   u'cancel_date': datetime.datetime(2015, 1, 8, 0, 0),\n",
       "   u'days_to_cancel': 0,\n",
       "   u'is_canceled': True,\n",
       "   u'is_udacity': False,\n",
       "   u'join_date': datetime.datetime(2015, 1, 8, 0, 0),\n",
       "   u'status': u'canceled'}],\n",
       " [{u'account_key': u'1063',\n",
       "   u'cancel_date': datetime.datetime(2015, 7, 14, 0, 0),\n",
       "   u'days_to_cancel': 0,\n",
       "   u'is_canceled': True,\n",
       "   u'is_udacity': False,\n",
       "   u'join_date': datetime.datetime(2015, 7, 14, 0, 0),\n",
       "   u'status': u'canceled'}],\n",
       " [{u'account_key': u'750',\n",
       "   u'cancel_date': datetime.datetime(2015, 6, 6, 0, 0),\n",
       "   u'days_to_cancel': 0,\n",
       "   u'is_canceled': True,\n",
       "   u'is_udacity': False,\n",
       "   u'join_date': datetime.datetime(2015, 6, 6, 0, 0),\n",
       "   u'status': u'canceled'}],\n",
       " [{u'account_key': u'739',\n",
       "   u'cancel_date': datetime.datetime(2015, 4, 5, 0, 0),\n",
       "   u'days_to_cancel': 0,\n",
       "   u'is_canceled': True,\n",
       "   u'is_udacity': False,\n",
       "   u'join_date': datetime.datetime(2015, 4, 5, 0, 0),\n",
       "   u'status': u'canceled'}],\n",
       " [{u'account_key': u'1186',\n",
       "   u'cancel_date': datetime.datetime(2015, 3, 11, 0, 0),\n",
       "   u'days_to_cancel': 0,\n",
       "   u'is_canceled': True,\n",
       "   u'is_udacity': False,\n",
       "   u'join_date': datetime.datetime(2015, 3, 11, 0, 0),\n",
       "   u'status': u'canceled'}],\n",
       " [{u'account_key': u'727',\n",
       "   u'cancel_date': datetime.datetime(2014, 12, 7, 0, 0),\n",
       "   u'days_to_cancel': 0,\n",
       "   u'is_canceled': True,\n",
       "   u'is_udacity': False,\n",
       "   u'join_date': datetime.datetime(2014, 12, 7, 0, 0),\n",
       "   u'status': u'canceled'}],\n",
       " [{u'account_key': u'728',\n",
       "   u'cancel_date': datetime.datetime(2014, 12, 5, 0, 0),\n",
       "   u'days_to_cancel': 0,\n",
       "   u'is_canceled': True,\n",
       "   u'is_udacity': False,\n",
       "   u'join_date': datetime.datetime(2014, 12, 5, 0, 0),\n",
       "   u'status': u'canceled'}]]"
      ]
     },
     "execution_count": 14,
     "metadata": {},
     "output_type": "execute_result"
    }
   ],
   "source": [
    "#####################################\n",
    "#                 4                 #\n",
    "#####################################\n",
    "\n",
    "## Find any one student enrollments where the student is missing from the daily engagement table.\n",
    "## Output that enrollment.\n",
    "missing_engagements = []\n",
    "for enrollment in unique_enrollments:\n",
    "    if enrollment not in unique_engagements:\n",
    "        missing_engagements.append([e for e in enrollments if e['account_key'] == enrollment])\n",
    "        \n",
    "missing_engagements"
   ]
  },
  {
   "cell_type": "code",
   "execution_count": 15,
   "metadata": {
    "collapsed": false
   },
   "outputs": [
    {
     "data": {
      "text/plain": [
       "65"
      ]
     },
     "execution_count": 15,
     "metadata": {},
     "output_type": "execute_result"
    }
   ],
   "source": [
    "len(missing_engagements)"
   ]
  },
  {
   "cell_type": "markdown",
   "metadata": {},
   "source": [
    "## Checking for More Problem Records"
   ]
  },
  {
   "cell_type": "code",
   "execution_count": 16,
   "metadata": {
    "collapsed": false
   },
   "outputs": [
    {
     "data": {
      "text/plain": [
       "[[],\n",
       " [],\n",
       " [],\n",
       " [],\n",
       " [],\n",
       " [],\n",
       " [],\n",
       " [],\n",
       " [],\n",
       " [],\n",
       " [],\n",
       " [],\n",
       " [],\n",
       " [],\n",
       " [],\n",
       " [],\n",
       " [],\n",
       " [],\n",
       " [{u'account_key': u'1304',\n",
       "   u'cancel_date': datetime.datetime(2015, 3, 10, 0, 0),\n",
       "   u'days_to_cancel': 59,\n",
       "   u'is_canceled': True,\n",
       "   u'is_udacity': True,\n",
       "   u'join_date': datetime.datetime(2015, 1, 10, 0, 0),\n",
       "   u'status': u'canceled'},\n",
       "  {u'account_key': u'1304',\n",
       "   u'cancel_date': datetime.datetime(2015, 6, 17, 0, 0),\n",
       "   u'days_to_cancel': 99,\n",
       "   u'is_canceled': True,\n",
       "   u'is_udacity': True,\n",
       "   u'join_date': datetime.datetime(2015, 3, 10, 0, 0),\n",
       "   u'status': u'canceled'}],\n",
       " [],\n",
       " [],\n",
       " [],\n",
       " [],\n",
       " [],\n",
       " [],\n",
       " [],\n",
       " [],\n",
       " [],\n",
       " [],\n",
       " [],\n",
       " [],\n",
       " [],\n",
       " [],\n",
       " [],\n",
       " [],\n",
       " [],\n",
       " [],\n",
       " [],\n",
       " [],\n",
       " [],\n",
       " [],\n",
       " [],\n",
       " [{u'account_key': u'1101',\n",
       "   u'cancel_date': None,\n",
       "   u'days_to_cancel': None,\n",
       "   u'is_canceled': False,\n",
       "   u'is_udacity': True,\n",
       "   u'join_date': datetime.datetime(2015, 2, 25, 0, 0),\n",
       "   u'status': u'current'}],\n",
       " [],\n",
       " [],\n",
       " [],\n",
       " [],\n",
       " [],\n",
       " [],\n",
       " [],\n",
       " [],\n",
       " [],\n",
       " [],\n",
       " [],\n",
       " [],\n",
       " [],\n",
       " [],\n",
       " [],\n",
       " [],\n",
       " [],\n",
       " [],\n",
       " [],\n",
       " [],\n",
       " [],\n",
       " []]"
      ]
     },
     "execution_count": 16,
     "metadata": {},
     "output_type": "execute_result"
    }
   ],
   "source": [
    "#####################################\n",
    "#                 5                 #\n",
    "#####################################\n",
    "\n",
    "## Find the number of surprising data points (enrollments missing from\n",
    "## the engagement table) that remain, if any.\n",
    "missing_engagements2 = []\n",
    "for enrollment in unique_enrollments:\n",
    "    if enrollment not in unique_engagements:\n",
    "        missing_engagements2.append([e for e in enrollments if e['account_key'] == enrollment and e['join_date'] != e['cancel_date']] )\n",
    "        \n",
    "missing_engagements2"
   ]
  },
  {
   "cell_type": "markdown",
   "metadata": {},
   "source": [
    "## Tracking Down the Remaining Problems"
   ]
  },
  {
   "cell_type": "code",
   "execution_count": 17,
   "metadata": {
    "collapsed": false
   },
   "outputs": [
    {
     "data": {
      "text/plain": [
       "6"
      ]
     },
     "execution_count": 17,
     "metadata": {},
     "output_type": "execute_result"
    }
   ],
   "source": [
    "# Create a set of the account keys for all Udacity test accounts\n",
    "udacity_test_accounts = set()\n",
    "for enrollment in enrollments:\n",
    "    if enrollment['is_udacity']:\n",
    "        udacity_test_accounts.add(enrollment['account_key'])\n",
    "len(udacity_test_accounts)"
   ]
  },
  {
   "cell_type": "code",
   "execution_count": 18,
   "metadata": {
    "collapsed": true
   },
   "outputs": [],
   "source": [
    "# Given some data with an account_key field, removes any records corresponding to Udacity test accounts\n",
    "def remove_udacity_accounts(data):\n",
    "    non_udacity_data = []\n",
    "    for data_point in data:\n",
    "        if data_point['account_key'] not in udacity_test_accounts:\n",
    "            non_udacity_data.append(data_point)\n",
    "    return non_udacity_data"
   ]
  },
  {
   "cell_type": "code",
   "execution_count": 19,
   "metadata": {
    "collapsed": false
   },
   "outputs": [
    {
     "name": "stdout",
     "output_type": "stream",
     "text": [
      "1622\n",
      "135656\n",
      "3634\n"
     ]
    }
   ],
   "source": [
    "# Remove Udacity test accounts from all three tables\n",
    "non_udacity_enrollments = remove_udacity_accounts(enrollments)\n",
    "non_udacity_engagement = remove_udacity_accounts(daily_engagement)\n",
    "non_udacity_submissions = remove_udacity_accounts(project_submissions)\n",
    "\n",
    "print len(non_udacity_enrollments)\n",
    "print len(non_udacity_engagement)\n",
    "print len(non_udacity_submissions)"
   ]
  },
  {
   "cell_type": "markdown",
   "metadata": {},
   "source": [
    "## Refining the Question"
   ]
  },
  {
   "cell_type": "code",
   "execution_count": 20,
   "metadata": {
    "collapsed": false
   },
   "outputs": [
    {
     "data": {
      "text/plain": [
       "995"
      ]
     },
     "execution_count": 20,
     "metadata": {},
     "output_type": "execute_result"
    }
   ],
   "source": [
    "#####################################\n",
    "#                 6                 #\n",
    "#####################################\n",
    "\n",
    "## Create a dictionary named paid_students containing all students who either\n",
    "## haven't canceled yet or who remained enrolled for more than 7 days. The keys\n",
    "## should be account keys, and the values should be the date the student enrolled.\n",
    "\n",
    "paid_students = {}\n",
    "for enrollment in non_udacity_enrollments:\n",
    "    if enrollment['days_to_cancel'] is None or enrollment['days_to_cancel'] > 7:\n",
    "        account_key = enrollment['account_key']\n",
    "        enrollment_date = enrollment['join_date']\n",
    "        if account_key not in paid_students or enrollment_date > paid_students[account_key]:\n",
    "            paid_students[account_key] = enrollment_date\n",
    "        \n",
    "\n",
    "len(paid_students)"
   ]
  },
  {
   "cell_type": "markdown",
   "metadata": {},
   "source": [
    "## Getting Data from First Week"
   ]
  },
  {
   "cell_type": "code",
   "execution_count": 35,
   "metadata": {
    "collapsed": true
   },
   "outputs": [],
   "source": [
    "# Takes a student's join date and the date of a specific engagement record,\n",
    "# and returns True if that engagement record happened within one week\n",
    "# of the student joining.\n",
    "def within_one_week(join_date, engagement_date):\n",
    "    time_delta = engagement_date - join_date\n",
    "    return time_delta.days < 7 and time_delta.days >= 0"
   ]
  },
  {
   "cell_type": "code",
   "execution_count": 36,
   "metadata": {
    "collapsed": false
   },
   "outputs": [
    {
     "data": {
      "text/plain": [
       "6919"
      ]
     },
     "execution_count": 36,
     "metadata": {},
     "output_type": "execute_result"
    }
   ],
   "source": [
    "#####################################\n",
    "#                 7                 #\n",
    "#####################################\n",
    "\n",
    "## Create a list of rows from the engagement table including only rows where\n",
    "## the student is one of the paid students you just found, and the date is within\n",
    "## one week of the student's join date.\n",
    "\n",
    "paid_engagement_in_first_week = []\n",
    "for engagement in non_udacity_engagement:\n",
    "    if engagement['account_key'] in paid_students and within_one_week(paid_students[engagement['account_key']], engagement['utc_date']):\n",
    "        paid_engagement_in_first_week.append(engagement)\n",
    "        \n",
    "len(paid_engagement_in_first_week)"
   ]
  },
  {
   "cell_type": "markdown",
   "metadata": {},
   "source": [
    "## Exploring Student Engagement"
   ]
  },
  {
   "cell_type": "code",
   "execution_count": 37,
   "metadata": {
    "collapsed": true
   },
   "outputs": [],
   "source": [
    "from collections import defaultdict\n",
    "\n",
    "# Create a dictionary of engagement grouped by student.\n",
    "# The keys are account keys, and the values are lists of engagement records.\n",
    "engagement_by_account = defaultdict(list)\n",
    "for engagement_record in paid_engagement_in_first_week:\n",
    "    account_key = engagement_record['account_key']\n",
    "    engagement_by_account[account_key].append(engagement_record)"
   ]
  },
  {
   "cell_type": "code",
   "execution_count": 38,
   "metadata": {
    "collapsed": true
   },
   "outputs": [],
   "source": [
    "# Create a dictionary with the total minutes each student spent in the classroom during the first week.\n",
    "# The keys are account keys, and the values are numbers (total minutes)\n",
    "total_minutes_by_account = {}\n",
    "for account_key, engagement_for_student in engagement_by_account.items():\n",
    "    total_minutes = 0\n",
    "    for engagement_record in engagement_for_student:\n",
    "        total_minutes += engagement_record['total_minutes_visited']\n",
    "    total_minutes_by_account[account_key] = total_minutes"
   ]
  },
  {
   "cell_type": "code",
   "execution_count": 39,
   "metadata": {
    "collapsed": false
   },
   "outputs": [
    {
     "name": "stdout",
     "output_type": "stream",
     "text": [
      "Mean: 306.708326753\n",
      "Standard deviation: 412.996933409\n",
      "Minimum: 0.0\n",
      "Maximum: 3564.7332645\n"
     ]
    }
   ],
   "source": [
    "import numpy as np\n",
    "\n",
    "# Summarize the data about minutes spent in the classroom\n",
    "total_minutes = total_minutes_by_account.values()\n",
    "print 'Mean:', np.mean(total_minutes)\n",
    "print 'Standard deviation:', np.std(total_minutes)\n",
    "print 'Minimum:', np.min(total_minutes)\n",
    "print 'Maximum:', np.max(total_minutes)"
   ]
  },
  {
   "cell_type": "markdown",
   "metadata": {},
   "source": [
    "## Debugging Data Analysis Code"
   ]
  },
  {
   "cell_type": "code",
   "execution_count": 40,
   "metadata": {
    "collapsed": false
   },
   "outputs": [],
   "source": [
    "#####################################\n",
    "#                 8                 #\n",
    "#####################################\n",
    "\n",
    "## Go through a similar process as before to see if there is a problem.\n",
    "## Locate at least one surprising piece of data, output it, and take a look at it.\n",
    "\n",
    "for acct, mins in total_minutes_by_account.items():\n",
    "    if mins > 7*24*60:\n",
    "        print acct, mins\n",
    "        print 7*24*60"
   ]
  },
  {
   "cell_type": "markdown",
   "metadata": {},
   "source": [
    "## Lessons Completed in First Week"
   ]
  },
  {
   "cell_type": "code",
   "execution_count": 46,
   "metadata": {
    "collapsed": false
   },
   "outputs": [
    {
     "name": "stdout",
     "output_type": "stream",
     "text": [
      "Mean: 2.86733668342\n",
      "Standard deviation: 2.25519800292\n",
      "Minimum: 0\n",
      "Maximum: 7\n"
     ]
    }
   ],
   "source": [
    "#####################################\n",
    "#                 9                 #\n",
    "#####################################\n",
    "\n",
    "## Adapt the code above to find the mean, standard deviation, minimum, and maximum for\n",
    "## the number of lessons completed by each student during the first week. Try creating\n",
    "## one or more functions to re-use the code above.\n",
    "\n",
    "total_visits_by_account = {}\n",
    "for account_key, engagement_for_student in engagement_by_account.items():\n",
    "    total_visits = 0\n",
    "    for engagement_record in engagement_for_student:\n",
    "        if engagement_record['num_courses_visited'] > 0:\n",
    "            total_visits += 1;\n",
    "    total_visits_by_account[account_key] = total_visits\n",
    "    \n",
    "total_visits = total_visits_by_account.values()\n",
    "print 'Mean:', np.mean(total_visits)\n",
    "print 'Standard deviation:', np.std(total_visits)\n",
    "print 'Minimum:', np.min(total_visits)\n",
    "print 'Maximum:', np.max(total_visits)"
   ]
  },
  {
   "cell_type": "markdown",
   "metadata": {},
   "source": [
    "## Number of Visits in First Week"
   ]
  },
  {
   "cell_type": "code",
   "execution_count": 42,
   "metadata": {
    "collapsed": false
   },
   "outputs": [
    {
     "name": "stdout",
     "output_type": "stream",
     "text": [
      "Mean: 1.63618090452\n",
      "Standard deviation: 3.00256129983\n",
      "Minimum: 0\n",
      "Maximum: 36\n"
     ]
    }
   ],
   "source": [
    "######################################\n",
    "#                 10                 #\n",
    "######################################\n",
    "\n",
    "## Find the mean, standard deviation, minimum, and maximum for the number of\n",
    "## days each student visits the classroom during the first week.\n",
    "total_courses_by_account = {}\n",
    "for account_key, engagement_for_student in engagement_by_account.items():\n",
    "    total_lessons = 0\n",
    "    for engagement_record in engagement_for_student:\n",
    "        total_lessons += engagement_record['lessons_completed']\n",
    "    total_lessons_by_account[account_key] = total_lessons\n"
   ]
  },
  {
   "cell_type": "markdown",
   "metadata": {},
   "source": [
    "## Splitting out Passing Students"
   ]
  },
  {
   "cell_type": "code",
   "execution_count": 48,
   "metadata": {
    "collapsed": false
   },
   "outputs": [
    {
     "name": "stdout",
     "output_type": "stream",
     "text": [
      "Total passed 653\n"
     ]
    }
   ],
   "source": [
    "######################################\n",
    "#                 11                 #\n",
    "######################################\n",
    "\n",
    "## Create two lists of engagement data for paid students in the first week.\n",
    "## The first list should contain data for students who eventually pass the\n",
    "## subway project, and the second list should contain data for students\n",
    "## who do not.\n",
    "\n",
    "subway_project_lesson_keys = ['746169184', '3176718735']\n",
    "passing_grades = ['PASSED', 'DISTINCTION']\n",
    "pass_subway_project = set()\n",
    "passing_engagement = []\n",
    "non_passing_engagement = []\n",
    "\n",
    "for submission in project_submissions:\n",
    "    if submission['lesson_key'] in subway_project_lesson_keys:\n",
    "        if submission['assigned_rating'] in passing_grades:\n",
    "            pass_subway_project.add(submission['account_key'])\n",
    "print \"Total passed %s\" % len(pass_subway_project)"
   ]
  },
  {
   "cell_type": "code",
   "execution_count": 52,
   "metadata": {
    "collapsed": false
   },
   "outputs": [
    {
     "name": "stdout",
     "output_type": "stream",
     "text": [
      "Total passed 4527\n",
      "Total passed 2392\n"
     ]
    }
   ],
   "source": [
    "for engagement in paid_engagement_in_first_week:\n",
    "    if(engagement['account_key'] in pass_subway_project):\n",
    "        passing_engagement.append(engagement)\n",
    "    else:\n",
    "        non_passing_engagement.append(engagement)\n",
    "\n",
    "print \"Total passed %s\" % len(passing_engagement)\n",
    "print \"Total passed %s\" % len(non_passing_engagement)"
   ]
  },
  {
   "cell_type": "markdown",
   "metadata": {},
   "source": [
    "## Comparing the Two Student Groups"
   ]
  },
  {
   "cell_type": "code",
   "execution_count": null,
   "metadata": {
    "collapsed": true
   },
   "outputs": [],
   "source": [
    "######################################\n",
    "#                 12                 #\n",
    "######################################\n",
    "\n",
    "## Compute some metrics you're interested in and see how they differ for\n",
    "## students who pass the subway project vs. students who don't. A good\n",
    "## starting point would be the metrics we looked at earlier (minutes spent\n",
    "## in the classroom, lessons completed, and days visited).\n",
    "\n"
   ]
  },
  {
   "cell_type": "markdown",
   "metadata": {},
   "source": [
    "## Making Histograms"
   ]
  },
  {
   "cell_type": "code",
   "execution_count": null,
   "metadata": {
    "collapsed": true
   },
   "outputs": [],
   "source": [
    "######################################\n",
    "#                 13                 #\n",
    "######################################\n",
    "\n",
    "## Make histograms of the three metrics we looked at earlier for both\n",
    "## students who passed the subway project and students who didn't. You\n",
    "## might also want to make histograms of any other metrics you examined."
   ]
  },
  {
   "cell_type": "markdown",
   "metadata": {},
   "source": [
    "## Improving Plots and Sharing Findings"
   ]
  },
  {
   "cell_type": "code",
   "execution_count": null,
   "metadata": {
    "collapsed": true
   },
   "outputs": [],
   "source": [
    "######################################\n",
    "#                 14                 #\n",
    "######################################\n",
    "\n",
    "## Make a more polished version of at least one of your visualizations\n",
    "## from earlier. Try importing the seaborn library to make the visualization\n",
    "## look better, adding axis labels and a title, and changing one or more\n",
    "## arguments to the hist() function."
   ]
  }
 ],
 "metadata": {
  "anaconda-cloud": {},
  "kernelspec": {
   "display_name": "Python [conda env:DAND]",
   "language": "python",
   "name": "conda-env-DAND-py"
  },
  "language_info": {
   "codemirror_mode": {
    "name": "ipython",
    "version": 2
   },
   "file_extension": ".py",
   "mimetype": "text/x-python",
   "name": "python",
   "nbconvert_exporter": "python",
   "pygments_lexer": "ipython2",
   "version": "2.7.12"
  }
 },
 "nbformat": 4,
 "nbformat_minor": 0
}
